{
 "cells": [
  {
   "cell_type": "code",
   "execution_count": 7,
   "metadata": {},
   "outputs": [],
   "source": [
    "import sys\n",
    "import os\n",
    "from pathlib import Path\n",
    "\n",
    "import pandas as pd\n",
    "import seaborn as sns"
   ]
  },
  {
   "cell_type": "code",
   "execution_count": 23,
   "metadata": {},
   "outputs": [],
   "source": [
    "# Load the data\n",
    "file_dir = Path.cwd().parent / 'data' / 'webis-clickbait-17' \n",
    "df = pd.read_csv(file_dir /'tweets-clean.csv', index_col=0)"
   ]
  },
  {
   "cell_type": "code",
   "execution_count": 29,
   "metadata": {},
   "outputs": [
    {
     "data": {
      "text/plain": [
       "(19509, 11)"
      ]
     },
     "execution_count": 29,
     "metadata": {},
     "output_type": "execute_result"
    }
   ],
   "source": [
    "df.shape"
   ]
  },
  {
   "cell_type": "code",
   "execution_count": 33,
   "metadata": {},
   "outputs": [
    {
     "name": "stdout",
     "output_type": "stream",
     "text": [
      "{\"truthJudgments\": [1.0, 1.0, 1.0, 1.0, 1.0], \"truthMean\": 1.0, \"id\": \"858464162594172928\", \"truthClass\": \"clickbait\", \"truthMedian\": 1.0, \"truthMode\": 1.0}\n",
      "\n",
      "Number of tweets: 39076\n"
     ]
    }
   ],
   "source": [
    "# Load the targets variables. \n",
    "import json\n",
    "fpath = Path.cwd().parent / \"data\" / \"webis-clickbait-17\" / \"raw-data\" / \"truth.jsonl\"\n",
    "with open(fpath) as f:\n",
    "    line = f.readline()\n",
    "    print(line)\n",
    "    \n",
    "    while line:\n",
    "        dat = json.loads(line)\n",
    "        tweet_ids.append(dat['id'])\n",
    "        line = f.readline()\n",
    "print(\"Number of tweets:\", len(tweet_ids))"
   ]
  },
  {
   "cell_type": "code",
   "execution_count": 34,
   "metadata": {},
   "outputs": [],
   "source": [
    "y = pd.read_json(fpath, lines=True)"
   ]
  },
  {
   "cell_type": "code",
   "execution_count": 56,
   "metadata": {},
   "outputs": [],
   "source": [
    "cols = ['score1', 'score2', 'score3', 'score4']\n",
    "for i in range(len(cols)):\n",
    "    y[[cols[i]]] = y[['truthJudgments']].apply(lambda x: x.truthJudgments[i],axis=1)"
   ]
  },
  {
   "cell_type": "code",
   "execution_count": 57,
   "metadata": {},
   "outputs": [
    {
     "data": {
      "text/html": [
       "<div>\n",
       "<style scoped>\n",
       "    .dataframe tbody tr th:only-of-type {\n",
       "        vertical-align: middle;\n",
       "    }\n",
       "\n",
       "    .dataframe tbody tr th {\n",
       "        vertical-align: top;\n",
       "    }\n",
       "\n",
       "    .dataframe thead th {\n",
       "        text-align: right;\n",
       "    }\n",
       "</style>\n",
       "<table border=\"1\" class=\"dataframe\">\n",
       "  <thead>\n",
       "    <tr style=\"text-align: right;\">\n",
       "      <th></th>\n",
       "      <th>truthJudgments</th>\n",
       "      <th>truthMean</th>\n",
       "      <th>id</th>\n",
       "      <th>truthClass</th>\n",
       "      <th>truthMedian</th>\n",
       "      <th>truthMode</th>\n",
       "      <th>score1</th>\n",
       "      <th>score2</th>\n",
       "      <th>score3</th>\n",
       "      <th>score4</th>\n",
       "    </tr>\n",
       "  </thead>\n",
       "  <tbody>\n",
       "    <tr>\n",
       "      <th>0</th>\n",
       "      <td>[1.0, 1.0, 1.0, 1.0, 1.0]</td>\n",
       "      <td>1.000000</td>\n",
       "      <td>858464162594172928</td>\n",
       "      <td>clickbait</td>\n",
       "      <td>1.000000</td>\n",
       "      <td>1.000000</td>\n",
       "      <td>1.000000</td>\n",
       "      <td>1.000000</td>\n",
       "      <td>1.000000</td>\n",
       "      <td>1.000000</td>\n",
       "    </tr>\n",
       "    <tr>\n",
       "      <th>1</th>\n",
       "      <td>[0.33333333330000003, 0.0, 0.33333333330000003...</td>\n",
       "      <td>0.133333</td>\n",
       "      <td>858462320779026432</td>\n",
       "      <td>no-clickbait</td>\n",
       "      <td>0.000000</td>\n",
       "      <td>0.000000</td>\n",
       "      <td>0.333333</td>\n",
       "      <td>0.000000</td>\n",
       "      <td>0.333333</td>\n",
       "      <td>0.000000</td>\n",
       "    </tr>\n",
       "    <tr>\n",
       "      <th>2</th>\n",
       "      <td>[0.33333333330000003, 0.6666666666000001, 1.0,...</td>\n",
       "      <td>0.400000</td>\n",
       "      <td>858460992073863168</td>\n",
       "      <td>no-clickbait</td>\n",
       "      <td>0.333333</td>\n",
       "      <td>0.000000</td>\n",
       "      <td>0.333333</td>\n",
       "      <td>0.666667</td>\n",
       "      <td>1.000000</td>\n",
       "      <td>0.000000</td>\n",
       "    </tr>\n",
       "    <tr>\n",
       "      <th>3</th>\n",
       "      <td>[0.0, 0.6666666666000001, 0.0, 0.3333333333000...</td>\n",
       "      <td>0.266667</td>\n",
       "      <td>858459539296980992</td>\n",
       "      <td>no-clickbait</td>\n",
       "      <td>0.333333</td>\n",
       "      <td>0.333333</td>\n",
       "      <td>0.000000</td>\n",
       "      <td>0.666667</td>\n",
       "      <td>0.000000</td>\n",
       "      <td>0.333333</td>\n",
       "    </tr>\n",
       "    <tr>\n",
       "      <th>4</th>\n",
       "      <td>[0.0, 0.0, 0.0, 0.0, 0.0]</td>\n",
       "      <td>0.000000</td>\n",
       "      <td>858455355948384256</td>\n",
       "      <td>no-clickbait</td>\n",
       "      <td>0.000000</td>\n",
       "      <td>0.000000</td>\n",
       "      <td>0.000000</td>\n",
       "      <td>0.000000</td>\n",
       "      <td>0.000000</td>\n",
       "      <td>0.000000</td>\n",
       "    </tr>\n",
       "  </tbody>\n",
       "</table>\n",
       "</div>"
      ],
      "text/plain": [
       "                                      truthJudgments  truthMean  \\\n",
       "0                          [1.0, 1.0, 1.0, 1.0, 1.0]   1.000000   \n",
       "1  [0.33333333330000003, 0.0, 0.33333333330000003...   0.133333   \n",
       "2  [0.33333333330000003, 0.6666666666000001, 1.0,...   0.400000   \n",
       "3  [0.0, 0.6666666666000001, 0.0, 0.3333333333000...   0.266667   \n",
       "4                          [0.0, 0.0, 0.0, 0.0, 0.0]   0.000000   \n",
       "\n",
       "                   id    truthClass  truthMedian  truthMode    score1  \\\n",
       "0  858464162594172928     clickbait     1.000000   1.000000  1.000000   \n",
       "1  858462320779026432  no-clickbait     0.000000   0.000000  0.333333   \n",
       "2  858460992073863168  no-clickbait     0.333333   0.000000  0.333333   \n",
       "3  858459539296980992  no-clickbait     0.333333   0.333333  0.000000   \n",
       "4  858455355948384256  no-clickbait     0.000000   0.000000  0.000000   \n",
       "\n",
       "     score2    score3    score4  \n",
       "0  1.000000  1.000000  1.000000  \n",
       "1  0.000000  0.333333  0.000000  \n",
       "2  0.666667  1.000000  0.000000  \n",
       "3  0.666667  0.000000  0.333333  \n",
       "4  0.000000  0.000000  0.000000  "
      ]
     },
     "execution_count": 57,
     "metadata": {},
     "output_type": "execute_result"
    }
   ],
   "source": [
    "y.head()"
   ]
  },
  {
   "cell_type": "code",
   "execution_count": 63,
   "metadata": {},
   "outputs": [
    {
     "data": {
      "text/plain": [
       "no-clickbait    14777\n",
       "clickbait        4761\n",
       "Name: truthClass, dtype: int64"
      ]
     },
     "execution_count": 63,
     "metadata": {},
     "output_type": "execute_result"
    }
   ],
   "source": [
    "import plotly.plotly as py\n",
    "import plotly.graph_objs as go\n",
    "from plotly import tools\n",
    "\n",
    "\n",
    "sources_pie = go.Pie(labels=source_counts.index, values=source_counts, marker=dict(colors=colors\n",
    "                                                            , line=dict(color='#FFF', width=2)), \n",
    "                                                            domain={'x': [0.0, .4], 'y': [0.0, 1]}\n",
    "                                                            , showlegend=False, name='Sources of Pie', textinfo='label+percent')\n",
    "\n",
    "flavor_pie = go.Pie(labels=flavor_counts.index, values=flavor_counts, marker=dict(colors=colors\n",
    "                                                            , line=dict(color='#FFF', width=2)), \n",
    "                                                            domain={'x': [.6, 1], 'y': [0.0, 1]}\n",
    "                                                            , showlegend=False, name='Flavors of Pie', textinfo='label+percent')\n",
    "\n",
    "layout = go.Layout(height = 600,\n",
    "                   width = 1000,\n",
    "                   autosize = False,\n",
    "                   title = 'Pie Consumption Patterns in the United States')\n",
    "fig = go.Figure(data = [sources_pie,flavor_pie ], layout = layout)\n",
    "\n",
    "\n",
    "py.iplot(fig, filename='basic_pie_chart')\n"
   ]
  },
  {
   "cell_type": "code",
   "execution_count": 64,
   "metadata": {},
   "outputs": [
    {
     "data": {
      "image/png": "[encoded data removed]",
      "text/plain": [
       "<Figure size 432x288 with 1 Axes>"
      ]
     },
     "metadata": {
      "needs_background": "light"
     },
     "output_type": "display_data"
    }
   ],
   "source": [
    "y['truthClass'].value_counts().plot(kind='bar');"
   ]
  },
  {
   "cell_type": "code",
   "execution_count": 66,
   "metadata": {},
   "outputs": [
    {
     "data": {
      "text/plain": [
       "<AxesSubplot:>"
      ]
     },
     "execution_count": 66,
     "metadata": {},
     "output_type": "execute_result"
    },
    {
     "data": {
      "image/png": "[encoded data removed]",
      "text/plain": [
       "<Figure size 432x288 with 1 Axes>"
      ]
     },
     "metadata": {
      "needs_background": "light"
     },
     "output_type": "display_data"
    }
   ],
   "source": [
    "import seaborn as sns\n",
    "sns.barplot(data=y.truthClass.value_counts())"
   ]
  },
  {
   "cell_type": "code",
   "execution_count": null,
   "metadata": {},
   "outputs": [],
   "source": []
  }
 ],
 "metadata": {
  "kernelspec": {
   "display_name": "Python 3",
   "language": "python",
   "name": "python3"
  },
  "language_info": {
   "codemirror_mode": {
    "name": "ipython",
    "version": 3
   },
   "file_extension": ".py",
   "mimetype": "text/x-python",
   "name": "python",
   "nbconvert_exporter": "python",
   "pygments_lexer": "ipython3",
   "version": "3.7.5"
  }
 },
 "nbformat": 4,
 "nbformat_minor": 4
}
